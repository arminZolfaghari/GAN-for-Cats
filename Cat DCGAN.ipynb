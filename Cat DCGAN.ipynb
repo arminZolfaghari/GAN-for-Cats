{
  "cells": [
    {
      "cell_type": "markdown",
      "metadata": {
        "id": "view-in-github",
        "colab_type": "text"
      },
      "source": [
        "<a href=\"https://colab.research.google.com/github/arminZolfaghari/GAN-for-Cats/blob/main/Cat%20DCGAN.ipynb\" target=\"_parent\"><img src=\"https://colab.research.google.com/assets/colab-badge.svg\" alt=\"Open In Colab\"/></a>"
      ]
    },
    {
      "cell_type": "code",
      "execution_count": null,
      "metadata": {
        "id": "e99c070a"
      },
      "outputs": [],
      "source": [
        "import tensorflow as tf\n",
        "from tensorflow.keras import layers\n",
        "import os\n",
        "import numpy as np\n",
        "import time\n",
        "import matplotlib.pyplot as plt\n",
        "import cv2\n",
        "from tensorflow.keras.optimizers.legacy import Adam\n",
        "from IPython import display\n",
        "from google.colab import drive\n",
        "import pickle"
      ],
      "id": "e99c070a"
    },
    {
      "cell_type": "markdown",
      "metadata": {
        "id": "08402ff1"
      },
      "source": [
        "# Prepare the dataset\n",
        "### 15747 images (64,64,3)\n",
        "\n"
      ],
      "id": "08402ff1"
    },
    {
      "cell_type": "code",
      "execution_count": null,
      "metadata": {
        "colab": {
          "base_uri": "https://localhost:8080/"
        },
        "id": "0uBx3WBdfM2B",
        "outputId": "293c087a-fec6-43b2-97b5-d574b3886b25"
      },
      "outputs": [
        {
          "output_type": "stream",
          "name": "stdout",
          "text": [
            "Mounted at /content/gdrive\n"
          ]
        }
      ],
      "source": [
        "drive.mount('/content/gdrive')"
      ],
      "id": "0uBx3WBdfM2B"
    },
    {
      "cell_type": "code",
      "execution_count": null,
      "metadata": {
        "colab": {
          "base_uri": "https://localhost:8080/"
        },
        "id": "aFPTE26FkFtO",
        "outputId": "542e2ee3-7c1f-43ce-b333-5bda0a3364ed"
      },
      "outputs": [
        {
          "output_type": "stream",
          "name": "stdout",
          "text": [
            " Armin\t\t\t\t   geph-android.apk\n",
            " Armin_Zolfaghari_Daryani_CV.pdf   geph-windows-setup.exe\n",
            " cats\t\t\t\t  'How to get started with Drive.pdf'\n",
            "'Colab Notebooks'\t\t  'nqb-htyd-atp - Nov 27, 2022 (1).gjam'\n",
            " dataset.pickle\t\t\t  'nqb-htyd-atp - Nov 27, 2022.gjam'\n",
            " Engineering_Ethics_Summary.gdoc\n"
          ]
        }
      ],
      "source": [
        "!ls /content/gdrive/MyDrive"
      ],
      "id": "aFPTE26FkFtO"
    },
    {
      "cell_type": "code",
      "execution_count": null,
      "metadata": {
        "id": "b8b84ba0"
      },
      "outputs": [],
      "source": [
        "cat_images_dir = \"/content/gdrive/MyDrive/cats\"\n",
        "\n",
        "dataset = []\n",
        "for each in os.listdir(cat_images_dir):\n",
        "  print(each)\n",
        "  image = cv2.imread(os.path.join(cat_images_dir, each))\n",
        "  if type(image) != type(None):\n",
        "      dataset.append(image)\n",
        "\n",
        "dataset = np.array(dataset)\n",
        "print(dataset.shape)"
      ],
      "id": "b8b84ba0"
    },
    {
      "cell_type": "code",
      "execution_count": null,
      "metadata": {
        "colab": {
          "base_uri": "https://localhost:8080/"
        },
        "id": "41f948df",
        "outputId": "5a382d7f-c4a0-435a-cca8-64d5470e2b26"
      },
      "outputs": [
        {
          "output_type": "execute_result",
          "data": {
            "text/plain": [
              "(-1.0, 1.0)"
            ]
          },
          "metadata": {},
          "execution_count": 4
        }
      ],
      "source": [
        "dataset.min(), dataset.max()"
      ],
      "id": "41f948df"
    },
    {
      "cell_type": "code",
      "execution_count": null,
      "metadata": {
        "colab": {
          "base_uri": "https://localhost:8080/"
        },
        "id": "vIej9Tmvo23Q",
        "outputId": "de317a07-2094-43e0-ec20-b1ae6cb44a97"
      },
      "outputs": [
        {
          "output_type": "execute_result",
          "data": {
            "text/plain": [
              "(15867, 64, 64, 3)"
            ]
          },
          "metadata": {},
          "execution_count": 5
        }
      ],
      "source": [
        "dataset.shape"
      ],
      "id": "vIej9Tmvo23Q"
    },
    {
      "cell_type": "code",
      "execution_count": null,
      "metadata": {
        "colab": {
          "background_save": true
        },
        "id": "b7585d47"
      },
      "outputs": [],
      "source": [
        "dataset = (dataset - 127.5)/127.5    # Normalize the images to [-1, 1]\n",
        "dataset.min(), dataset.max()"
      ],
      "id": "b7585d47"
    },
    {
      "cell_type": "markdown",
      "source": [
        "### Store the dataset\n"
      ],
      "metadata": {
        "id": "pr-AjwKBtbwS"
      },
      "id": "pr-AjwKBtbwS"
    },
    {
      "cell_type": "code",
      "source": [
        "base_path = '/content/gdrive/MyDrive/'\n",
        "file_to_store = open(base_path + \"dataset.pickle\", \"wb\")\n",
        "pickle.dump(dataset, file_to_store)\n",
        "file_to_store.close()"
      ],
      "metadata": {
        "id": "KCbx9Oogtb6r"
      },
      "id": "KCbx9Oogtb6r",
      "execution_count": null,
      "outputs": []
    },
    {
      "cell_type": "markdown",
      "source": [
        "### Load the dataset"
      ],
      "metadata": {
        "id": "sxhwKrx7t1Ff"
      },
      "id": "sxhwKrx7t1Ff"
    },
    {
      "cell_type": "code",
      "source": [
        "base_path = '/content/gdrive/MyDrive/'\n",
        "file_to_read = open(base_path + \"dataset.pickle\", \"rb\")\n",
        "dataset = pickle.load(file_to_read)\n",
        "file_to_read.close()"
      ],
      "metadata": {
        "id": "HLLbJovIt1NA"
      },
      "id": "HLLbJovIt1NA",
      "execution_count": null,
      "outputs": []
    },
    {
      "cell_type": "code",
      "execution_count": null,
      "metadata": {
        "colab": {
          "base_uri": "https://localhost:8080/"
        },
        "id": "8f58312d",
        "outputId": "54069456-2917-4184-841f-2852bf392d89"
      },
      "outputs": [
        {
          "output_type": "stream",
          "name": "stdout",
          "text": [
            "<BatchDataset element_spec=TensorSpec(shape=(None, 64, 64, 3), dtype=tf.float64, name=None)>\n"
          ]
        }
      ],
      "source": [
        "# Batch and shuffle the data\n",
        "BATCH_SIZE = 64\n",
        "BUFFER_SIZE = 15867\n",
        "\n",
        "train_dataset = tf.data.Dataset.from_tensor_slices(dataset).shuffle(BUFFER_SIZE).batch(BATCH_SIZE)\n",
        "print(train_dataset)"
      ],
      "id": "8f58312d"
    },
    {
      "cell_type": "markdown",
      "metadata": {
        "id": "72862707"
      },
      "source": [
        "# Create the model\n"
      ],
      "id": "72862707"
    },
    {
      "cell_type": "markdown",
      "metadata": {
        "id": "5794489c"
      },
      "source": [
        "## Generator \n"
      ],
      "id": "5794489c"
    },
    {
      "cell_type": "code",
      "execution_count": null,
      "metadata": {
        "id": "0c5ae3b2"
      },
      "outputs": [],
      "source": [
        "def generator_model(noise_dim):\n",
        "    model = tf.keras.Sequential()\n",
        "    \n",
        "    model.add(layers.Dense(4*4*1024, input_shape=(noise_dim,)))\n",
        "    model.add(layers.Reshape((4, 4, 1024)))\n",
        "    model.add(layers.LeakyReLU())\n",
        "    \n",
        "    model.add(layers.Conv2DTranspose(filters=512, kernel_size=(5,5), strides=(2,2), padding='same',\n",
        "            kernel_initializer=tf.initializers.truncated_normal(stddev=0.02)))\n",
        "    model.add(layers.BatchNormalization())\n",
        "    model.add(layers.LeakyReLU())\n",
        "    \n",
        "    model.add(layers.Conv2DTranspose(filters=256, kernel_size=(5,5), strides=(2,2), padding='same',\n",
        "             kernel_initializer=tf.initializers.truncated_normal(stddev=0.02)))\n",
        "    model.add(layers.BatchNormalization())\n",
        "    model.add(layers.LeakyReLU())\n",
        "    \n",
        "    model.add(layers.Conv2DTranspose(filters=128, kernel_size=(5,5), strides=(2,2), padding='same',\n",
        "             kernel_initializer=tf.initializers.truncated_normal(stddev=0.02)))\n",
        "    model.add(layers.BatchNormalization())\n",
        "    model.add(layers.LeakyReLU())\n",
        "    \n",
        "\n",
        "    model.add(layers.Conv2DTranspose(filters=64, kernel_size=(5,5), strides=(2,2), padding='same',\n",
        "             kernel_initializer=tf.initializers.truncated_normal(stddev=0.02)))\n",
        "    model.add(layers.BatchNormalization())\n",
        "    model.add(layers.LeakyReLU())\n",
        "    \n",
        "    model.add(layers.Conv2DTranspose(filters=3, kernel_size=(5,5), strides=(1,1), padding='same',\n",
        "             kernel_initializer=tf.initializers.truncated_normal(stddev=0.02),\n",
        "             activation='tanh'))\n",
        "    # output (64,64,3)\n",
        "\n",
        "    return model"
      ],
      "id": "0c5ae3b2"
    },
    {
      "cell_type": "code",
      "execution_count": null,
      "metadata": {
        "colab": {
          "base_uri": "https://localhost:8080/",
          "height": 1000
        },
        "id": "5e618ebd",
        "outputId": "caa26c6c-7348-4ea8-e661-c6c00dadd383"
      },
      "outputs": [
        {
          "output_type": "stream",
          "name": "stdout",
          "text": [
            "tf.Tensor(\n",
            "[[[[ 6.2981935e-04  1.5120357e-04 -1.4964971e-04]\n",
            "   [-7.4187243e-05 -2.0854028e-04  2.4058373e-04]\n",
            "   [ 1.4786233e-04 -2.2296162e-04 -1.8753053e-06]\n",
            "   ...\n",
            "   [-2.3190361e-03  1.7008187e-03  4.8302865e-04]\n",
            "   [-1.2478008e-04 -8.3430088e-04 -5.2601728e-04]\n",
            "   [-1.9133956e-03 -1.0494604e-04  3.9357235e-04]]\n",
            "\n",
            "  [[ 3.3203093e-04  8.1681152e-05  1.1936135e-03]\n",
            "   [-4.8667908e-04 -8.6121977e-04  3.7550856e-04]\n",
            "   [ 3.2806495e-04  9.4355777e-04  3.7899832e-04]\n",
            "   ...\n",
            "   [-1.4771828e-03  2.7611139e-04  4.2425790e-03]\n",
            "   [ 3.5303537e-04 -9.3307084e-05  7.6198846e-04]\n",
            "   [ 4.5338529e-05  2.6072218e-04  3.2566288e-03]]\n",
            "\n",
            "  [[ 2.0166629e-04 -1.2403164e-03  4.8556770e-04]\n",
            "   [ 7.4690674e-04  2.6831659e-04 -6.4249791e-05]\n",
            "   [ 6.4882057e-05 -9.3937611e-05  2.6626782e-03]\n",
            "   ...\n",
            "   [ 4.2750675e-04  2.2424718e-03 -1.5361434e-03]\n",
            "   [-1.5990699e-03 -5.4699590e-04  1.6966421e-03]\n",
            "   [-1.0485256e-03 -9.0016605e-05  3.3501617e-04]]\n",
            "\n",
            "  ...\n",
            "\n",
            "  [[-1.2542761e-03  3.8576967e-04 -1.1033562e-03]\n",
            "   [-1.4894881e-03 -1.2498695e-03  1.5768619e-03]\n",
            "   [ 1.0377245e-03 -2.7611402e-03  7.0157804e-04]\n",
            "   ...\n",
            "   [ 5.2803960e-03 -4.5436299e-03  5.6326063e-03]\n",
            "   [-6.9472432e-04  1.9677165e-03  6.1639673e-03]\n",
            "   [ 1.0587664e-03  3.5986332e-03  3.1205213e-03]]\n",
            "\n",
            "  [[ 1.8121926e-03 -8.4657152e-04  1.1244413e-03]\n",
            "   [-9.3427906e-04 -1.3228912e-03  4.1782940e-04]\n",
            "   [ 9.0261502e-04 -2.9202001e-03  2.7628983e-03]\n",
            "   ...\n",
            "   [-3.5486121e-03 -6.0312229e-04  7.6792610e-05]\n",
            "   [-1.4499868e-03 -4.1415328e-03  2.0072032e-03]\n",
            "   [ 1.7444431e-03  1.5241563e-04 -2.1859712e-03]]\n",
            "\n",
            "  [[-1.8843886e-04 -5.7778059e-05 -9.9916302e-04]\n",
            "   [ 1.1531453e-03 -1.8981172e-03  1.0615296e-03]\n",
            "   [ 2.1132426e-03 -2.2430914e-03  7.2355848e-04]\n",
            "   ...\n",
            "   [-2.5381544e-03 -6.0861586e-03 -1.5917973e-03]\n",
            "   [-1.2589901e-03  3.2437914e-03  1.5514796e-03]\n",
            "   [-7.9551188e-05 -5.5513862e-03 -1.3993433e-03]]]], shape=(1, 64, 64, 3), dtype=float32)\n"
          ]
        },
        {
          "output_type": "execute_result",
          "data": {
            "text/plain": [
              "<matplotlib.image.AxesImage at 0x7f13a1e11a30>"
            ]
          },
          "metadata": {},
          "execution_count": 8
        },
        {
          "output_type": "display_data",
          "data": {
            "text/plain": [
              "<Figure size 432x288 with 1 Axes>"
            ],
            "image/png": "[encoded data removed]"
          },
          "metadata": {
            "needs_background": "light"
          }
        }
      ],
      "source": [
        "# Test\n",
        "noise_dim = 100\n",
        "generator = generator_model(noise_dim)\n",
        "noise = tf.random.normal([1, noise_dim])\n",
        "generated_image = generator(noise, training=False)\n",
        "print(generated_image)\n",
        "plt.imshow((generated_image[0, :, :, :] * 0.5) + 0.5)"
      ],
      "id": "5e618ebd"
    },
    {
      "cell_type": "markdown",
      "metadata": {
        "id": "dc4607b1"
      },
      "source": [
        "## Discriminator"
      ],
      "id": "dc4607b1"
    },
    {
      "cell_type": "code",
      "execution_count": null,
      "metadata": {
        "id": "88451a1d"
      },
      "outputs": [],
      "source": [
        "def make_discriminator_model():\n",
        "    model = tf.keras.Sequential()\n",
        "    \n",
        "    model.add(layers.Conv2D(filters=64, kernel_size=(5,5), strides=(2,2), padding='same', input_shape=(64, 64, 3)))\n",
        "    model.add(layers.BatchNormalization(epsilon = 1e-5))\n",
        "    model.add(layers.LeakyReLU())\n",
        "\n",
        "    model.add(layers.Conv2D(filters=128, kernel_size=(5,5), strides=(2,2), padding='same'))\n",
        "    model.add(layers.BatchNormalization(epsilon = 1e-5))\n",
        "    model.add(layers.LeakyReLU())\n",
        "    \n",
        "    model.add(layers.Conv2D(filters=256, kernel_size=(5,5), strides=(2,2), padding='same'))\n",
        "    model.add(layers.BatchNormalization(epsilon = 1e-5))\n",
        "    model.add(layers.LeakyReLU())\n",
        "    \n",
        "    model.add(layers.Conv2D(filters=512, kernel_size=(5,5), strides=(1,1), padding='same'))\n",
        "    model.add(layers.BatchNormalization(epsilon = 1e-5))\n",
        "    model.add(layers.LeakyReLU())\n",
        "    \n",
        "    model.add(layers.Conv2D(filters=1024, kernel_size=(5,5), strides=(2,2), padding='same'))\n",
        "    model.add(layers.BatchNormalization(epsilon = 1e-5))\n",
        "    model.add(layers.LeakyReLU())\n",
        "    \n",
        "    model.add(layers.Flatten())\n",
        "    model.add(layers.Dense(1, activation='sigmoid')) # relu or sigmoid ?!\n",
        "    \n",
        "    return model"
      ],
      "id": "88451a1d"
    },
    {
      "cell_type": "code",
      "execution_count": null,
      "metadata": {
        "colab": {
          "base_uri": "https://localhost:8080/"
        },
        "id": "f5a0a186",
        "outputId": "b0d59851-131b-4fa7-b594-4e93e9251b63"
      },
      "outputs": [
        {
          "output_type": "stream",
          "name": "stdout",
          "text": [
            "tf.Tensor([[0.5000171]], shape=(1, 1), dtype=float32)\n"
          ]
        }
      ],
      "source": [
        "# Test\n",
        "\n",
        "discriminator = make_discriminator_model()\n",
        "decision = discriminator(generated_image)\n",
        "print(decision)"
      ],
      "id": "f5a0a186"
    },
    {
      "cell_type": "markdown",
      "metadata": {
        "id": "9a771cd4"
      },
      "source": [
        "## Model Loss"
      ],
      "id": "9a771cd4"
    },
    {
      "cell_type": "code",
      "execution_count": null,
      "metadata": {
        "id": "7b762d10"
      },
      "outputs": [],
      "source": [
        "cross_entropy = tf.keras.losses.BinaryCrossentropy(from_logits=True)"
      ],
      "id": "7b762d10"
    },
    {
      "cell_type": "code",
      "execution_count": null,
      "metadata": {
        "id": "2207cee3"
      },
      "outputs": [],
      "source": [
        "def generator_loss(fake_output):\n",
        "    return cross_entropy(tf.ones_like(fake_output), fake_output)"
      ],
      "id": "2207cee3"
    },
    {
      "cell_type": "code",
      "execution_count": null,
      "metadata": {
        "id": "df6bba30"
      },
      "outputs": [],
      "source": [
        "def discriminator_loss(real_output, fake_output):\n",
        "    real_loss = cross_entropy(tf.ones_like(real_output), real_output)\n",
        "    fake_loss = cross_entropy(tf.zeros_like(fake_output), fake_output)\n",
        "    total_loss = real_loss + fake_loss\n",
        "    return total_loss"
      ],
      "id": "df6bba30"
    },
    {
      "cell_type": "code",
      "execution_count": null,
      "metadata": {
        "id": "a1795a06"
      },
      "outputs": [],
      "source": [
        "generator_optimizer = Adam(1e-4)\n",
        "discriminator_optimizer = Adam(1e-4)"
      ],
      "id": "a1795a06"
    },
    {
      "cell_type": "markdown",
      "metadata": {
        "id": "f3236d88"
      },
      "source": [
        "### Save Checkpoints"
      ],
      "id": "f3236d88"
    },
    {
      "cell_type": "code",
      "execution_count": null,
      "metadata": {
        "id": "de4c95bc"
      },
      "outputs": [],
      "source": [
        "checkpoint_dir = './training_checkpoints'\n",
        "checkpoint_prefix = os.path.join(checkpoint_dir, \"ckpt\")\n",
        "checkpoint = tf.train.Checkpoint(generator_optimizer=generator_optimizer,\n",
        "                                 discriminator_optimizer=discriminator_optimizer,\n",
        "                                 generator=generator,\n",
        "                                 discriminator=discriminator)"
      ],
      "id": "de4c95bc"
    },
    {
      "cell_type": "markdown",
      "metadata": {
        "id": "77bdd704"
      },
      "source": [
        "# Train the model"
      ],
      "id": "77bdd704"
    },
    {
      "cell_type": "code",
      "execution_count": null,
      "metadata": {
        "id": "4a35b537"
      },
      "outputs": [],
      "source": [
        "EPOCHS = 150\n",
        "noise_dim = 100\n",
        "num_examples_to_generate = 16\n",
        "\n",
        "# You will reuse this seed overtime (so it's easier)\n",
        "# to visualize progress in the animated GIF)\n",
        "seed = tf.random.normal([num_examples_to_generate, noise_dim])"
      ],
      "id": "4a35b537"
    },
    {
      "cell_type": "code",
      "execution_count": null,
      "metadata": {
        "id": "27e535e5"
      },
      "outputs": [],
      "source": [
        "# Notice the use of `tf.function`\n",
        "# This annotation causes the function to be \"compiled\".\n",
        "@tf.function\n",
        "def train_step(images):\n",
        "    noise = tf.random.normal([BATCH_SIZE, noise_dim])\n",
        "    \n",
        "    with tf.GradientTape() as gen_tape, tf.GradientTape() as disc_tape:\n",
        "      generated_images = generator(noise, training=True)\n",
        "\n",
        "      real_output = discriminator(images, training=True)\n",
        "      fake_output = discriminator(generated_images, training=True)\n",
        "\n",
        "      gen_loss = generator_loss(fake_output)\n",
        "      disc_loss = discriminator_loss(real_output, fake_output)\n",
        "\n",
        "    gradients_of_generator = gen_tape.gradient(gen_loss, generator.trainable_variables)\n",
        "    gradients_of_discriminator = disc_tape.gradient(disc_loss, discriminator.trainable_variables)\n",
        "\n",
        "    generator_optimizer.apply_gradients(zip(gradients_of_generator, generator.trainable_variables))\n",
        "    discriminator_optimizer.apply_gradients(zip(gradients_of_discriminator, discriminator.trainable_variables))"
      ],
      "id": "27e535e5"
    },
    {
      "cell_type": "markdown",
      "metadata": {
        "id": "9604507b"
      },
      "source": [
        "### Generate and save images"
      ],
      "id": "9604507b"
    },
    {
      "cell_type": "code",
      "execution_count": null,
      "metadata": {
        "id": "2350ed52"
      },
      "outputs": [],
      "source": [
        "def generate_and_save_images(model, epoch, test_input):\n",
        "  predictions = model(test_input, training=False)\n",
        "\n",
        "  fig = plt.figure(figsize=(8, 8))\n",
        "\n",
        "  for i in range(predictions.shape[0]):\n",
        "      plt.subplot(4, 4, i+1)\n",
        "      plt.imshow(predictions[i, :, :] * 0.5 + 0.5)\n",
        "      plt.axis('off')\n",
        "\n",
        "  plt.savefig('image_at_epoch_{:04d}.png'.format(epoch))\n",
        "  plt.show()"
      ],
      "id": "2350ed52"
    },
    {
      "cell_type": "code",
      "execution_count": null,
      "metadata": {
        "id": "cf169f32"
      },
      "outputs": [],
      "source": [
        "def train(dataset, epochs):\n",
        "    for epoch in range(epochs):\n",
        "        start = time.time()\n",
        "        \n",
        "        print(f\"Batch size: {BATCH_SIZE}\")\n",
        "        batch = 0\n",
        "        for image_batch in dataset:\n",
        "            batch += 1\n",
        "            print(f\"batch: {batch}\")\n",
        "            train_step(image_batch)\n",
        "            \n",
        "        # Produce images for the GIF as you go\n",
        "        display.clear_output(wait=True)\n",
        "        generate_and_save_images(generator,\n",
        "                             epoch + 1,\n",
        "                             seed)\n",
        "        \n",
        "        # Save the model every 15 epochs\n",
        "        if (epoch + 1) % 10 == 0:\n",
        "          checkpoint.save(file_prefix = checkpoint_prefix)\n",
        "\n",
        "        print ('Time for epoch {} is {} sec'.format(epoch + 1, time.time()-start))\n",
        "        \n",
        "    # Generate after the final epoch\n",
        "    display.clear_output(wait=True)\n",
        "    generate_and_save_images(generator,\n",
        "                           epochs,\n",
        "                           seed)"
      ],
      "id": "cf169f32"
    },
    {
      "cell_type": "code",
      "execution_count": null,
      "metadata": {
        "id": "85178702"
      },
      "outputs": [],
      "source": [
        "train(train_dataset, EPOCHS)"
      ],
      "id": "85178702"
    },
    {
      "cell_type": "code",
      "source": [
        "!ls ./training_checkpoints"
      ],
      "metadata": {
        "colab": {
          "base_uri": "https://localhost:8080/"
        },
        "id": "L5oQ5ZRtstDw",
        "outputId": "10f60a77-d924-462f-81d3-4d142d2e7dbf"
      },
      "id": "L5oQ5ZRtstDw",
      "execution_count": null,
      "outputs": [
        {
          "output_type": "stream",
          "name": "stdout",
          "text": [
            "ls: cannot access './training_checkpoints': No such file or directory\n"
          ]
        }
      ]
    },
    {
      "cell_type": "markdown",
      "metadata": {
        "id": "a28ec63f"
      },
      "source": [
        "### Save the model"
      ],
      "id": "a28ec63f"
    },
    {
      "cell_type": "code",
      "execution_count": null,
      "metadata": {
        "id": "775c8901"
      },
      "outputs": [],
      "source": [
        "generator.save_weights('./generator')\n",
        "discriminator.save_weight('/discriminator')\n",
        "# load the previously saved wights : generator.load_weights(path)"
      ],
      "id": "775c8901"
    },
    {
      "cell_type": "markdown",
      "metadata": {
        "id": "67b00ef3"
      },
      "source": [
        "### Create a GIF"
      ],
      "id": "67b00ef3"
    },
    {
      "cell_type": "code",
      "execution_count": null,
      "metadata": {
        "id": "f14614c3"
      },
      "outputs": [],
      "source": [
        "# Display a single image using the epoch number\n",
        "def display_image(epoch_no):\n",
        "  return PIL.Image.open('image_at_epoch_{:04d}.png'.format(epoch_no))"
      ],
      "id": "f14614c3"
    }
  ],
  "metadata": {
    "colab": {
      "provenance": [],
      "include_colab_link": true
    },
    "gpuClass": "standard",
    "kernelspec": {
      "display_name": "Python 3",
      "language": "python",
      "name": "python3"
    },
    "language_info": {
      "codemirror_mode": {
        "name": "ipython",
        "version": 3
      },
      "file_extension": ".py",
      "mimetype": "text/x-python",
      "name": "python",
      "nbconvert_exporter": "python",
      "pygments_lexer": "ipython3",
      "version": "3.8.16"
    },
    "accelerator": "GPU"
  },
  "nbformat": 4,
  "nbformat_minor": 5
}