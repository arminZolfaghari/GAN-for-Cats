{
 "cells": [
  {
   "cell_type": "code",
   "execution_count": 1,
   "id": "e99c070a",
   "metadata": {},
   "outputs": [],
   "source": [
    "import tensorflow as tf\n",
    "from tensorflow.keras import layers\n",
    "import os\n",
    "import numpy as np\n",
    "import time\n",
    "import matplotlib.pyplot as plt\n",
    "import cv2"
   ]
  },
  {
   "cell_type": "markdown",
   "id": "08402ff1",
   "metadata": {},
   "source": [
    "# Dataset\n",
    "### 15747 images (64,64,3)\n",
    "\n"
   ]
  },
  {
   "cell_type": "code",
   "execution_count": 2,
   "id": "b8b84ba0",
   "metadata": {},
   "outputs": [
    {
     "name": "stdout",
     "output_type": "stream",
     "text": [
      "(15747, 64, 64, 3)\n"
     ]
    }
   ],
   "source": [
    "dataset_dir = \"./cats\"\n",
    "\n",
    "dataset = []\n",
    "for each in os.listdir(dataset_dir):\n",
    "    image = cv2.imread(os.path.join(dataset_dir, each))\n",
    "    if type(image) != type(None):\n",
    "        dataset.append(image)\n",
    "\n",
    "dataset = np.array(dataset)\n",
    "print(dataset.shape)"
   ]
  },
  {
   "cell_type": "markdown",
   "id": "5794489c",
   "metadata": {},
   "source": [
    "# Generator \n"
   ]
  },
  {
   "cell_type": "code",
   "execution_count": 3,
   "id": "0c5ae3b2",
   "metadata": {},
   "outputs": [],
   "source": [
    "def generator_model():\n",
    "    model = tf.keras.Sequential()\n",
    "    \n",
    "    model.add(layers.Dense(4*4*1024, input_shape=(100,)))\n",
    "    model.add(layers.Reshape((4, 4, 1024)))\n",
    "    model.add(layers.LeakyReLU())\n",
    "    \n",
    "    model.add(layers.Conv2DTranspose(filters=512, kernel_size=(5,5), strides=(2,2), padding='same',\n",
    "            kernel_initializer=tf.initializers.truncated_normal(stddev=0.02)))\n",
    "    model.add(layers.BatchNormalization())\n",
    "    model.add(layers.LeakyReLU())\n",
    "    \n",
    "    model.add(layers.Conv2DTranspose(filters=256, kernel_size=(5,5), strides=(2,2), padding='same',\n",
    "             kernel_initializer=tf.initializers.truncated_normal(stddev=0.02)))\n",
    "    model.add(layers.BatchNormalization())\n",
    "    model.add(layers.LeakyReLU())\n",
    "    \n",
    "    model.add(layers.Conv2DTranspose(filters=128, kernel_size=(5,5), strides=(2,2), padding='same',\n",
    "             kernel_initializer=tf.initializers.truncated_normal(stddev=0.02)))\n",
    "    model.add(layers.BatchNormalization())\n",
    "    model.add(layers.LeakyReLU())\n",
    "    \n",
    "\n",
    "    model.add(layers.Conv2DTranspose(filters=64, kernel_size=(5,5), strides=(2,2), padding='same',\n",
    "             kernel_initializer=tf.initializers.truncated_normal(stddev=0.02)))\n",
    "    model.add(layers.BatchNormalization())\n",
    "    model.add(layers.LeakyReLU())\n",
    "    \n",
    "    model.add(layers.Conv2DTranspose(filters=3, kernel_size=(5,5), strides=(1,1), padding='same',\n",
    "             kernel_initializer=tf.initializers.truncated_normal(stddev=0.02),\n",
    "             activation='tanh'))\n",
    "    # output (64,64,3)\n",
    "\n",
    "    return model"
   ]
  },
  {
   "cell_type": "code",
   "execution_count": 81,
   "id": "5e618ebd",
   "metadata": {},
   "outputs": [
    {
     "name": "stderr",
     "output_type": "stream",
     "text": [
      "Clipping input data to the valid range for imshow with RGB data ([0..1] for floats or [0..255] for integers).\n"
     ]
    },
    {
     "name": "stdout",
     "output_type": "stream",
     "text": [
      "tf.Tensor(\n",
      "[[[[-6.8013527e-05  2.6225356e-05 -1.4286293e-04]\n",
      "   [-8.0621779e-05  6.7105534e-04 -1.9977507e-04]\n",
      "   [ 5.6616182e-04 -7.8271452e-04  4.8279530e-06]\n",
      "   ...\n",
      "   [ 1.7758012e-03  7.8134233e-04  5.0310802e-04]\n",
      "   [ 5.1650539e-04 -3.2846988e-04  9.7864354e-04]\n",
      "   [ 2.4175472e-03  6.7397201e-04 -5.0907407e-04]]\n",
      "\n",
      "  [[-8.0641522e-04 -1.1417775e-03 -1.5383343e-04]\n",
      "   [ 4.1741584e-04 -1.4453234e-04 -6.9132523e-04]\n",
      "   [ 1.0048772e-03 -1.6525137e-04 -1.1636730e-03]\n",
      "   ...\n",
      "   [ 2.2365383e-03 -2.3198775e-03  8.9493702e-04]\n",
      "   [ 2.5728736e-03  3.8031174e-04  1.5768902e-04]\n",
      "   [ 1.2397612e-05 -1.3868645e-03  5.9729879e-04]]\n",
      "\n",
      "  [[-2.7521077e-04 -6.6521281e-04  7.2230340e-04]\n",
      "   [ 1.1704557e-03  7.3819462e-04  2.0940686e-04]\n",
      "   [ 3.6131198e-04 -1.3457559e-04 -5.9995673e-05]\n",
      "   ...\n",
      "   [ 4.9720509e-03  2.5100727e-03 -7.9593778e-04]\n",
      "   [-8.0199738e-04  9.0374262e-04  3.7608301e-04]\n",
      "   [ 4.0469831e-03 -1.5690171e-03 -1.6039368e-03]]\n",
      "\n",
      "  ...\n",
      "\n",
      "  [[ 3.0818083e-03 -2.9870847e-04  1.0767299e-03]\n",
      "   [ 1.8017552e-03  2.7922937e-04  9.0546807e-04]\n",
      "   [ 4.2879072e-04 -7.1202812e-05  6.2307616e-04]\n",
      "   ...\n",
      "   [ 9.9809067e-03 -4.1996343e-03  3.4089310e-03]\n",
      "   [ 2.7916982e-04 -3.8525398e-04 -4.6101473e-03]\n",
      "   [ 7.9528913e-03 -4.0554893e-03 -6.7995500e-04]]\n",
      "\n",
      "  [[-1.3805289e-03 -1.4550667e-03  1.4012463e-03]\n",
      "   [ 1.1393545e-03  1.0179041e-03  4.1661908e-05]\n",
      "   [ 1.4112912e-03 -1.3020280e-03  5.4270361e-04]\n",
      "   ...\n",
      "   [ 6.2023145e-03  1.1888302e-03  6.0600117e-03]\n",
      "   [-3.8956478e-03 -1.2324780e-04 -3.2231950e-03]\n",
      "   [ 4.5550643e-03  7.7723607e-04 -3.3828826e-03]]\n",
      "\n",
      "  [[ 3.4439619e-04 -1.7281186e-03  8.1621495e-04]\n",
      "   [ 1.5215931e-03 -8.3196774e-04  1.1189563e-03]\n",
      "   [ 2.1935659e-04 -2.4883524e-03 -9.4834424e-04]\n",
      "   ...\n",
      "   [ 1.7000691e-03  2.6564770e-03  2.0331447e-03]\n",
      "   [ 3.7444758e-03 -2.1285026e-03 -1.7298530e-03]\n",
      "   [ 2.1566267e-04  1.2637480e-03 -1.6615534e-03]]]], shape=(1, 64, 64, 3), dtype=float32)\n"
     ]
    },
    {
     "data": {
      "text/plain": [
       "<matplotlib.image.AxesImage at 0x2c0d1ba60>"
      ]
     },
     "execution_count": 81,
     "metadata": {},
     "output_type": "execute_result"
    },
    {
     "data": {
      "image/png": "[encoded data removed]",
      "text/plain": [
       "<Figure size 432x288 with 1 Axes>"
      ]
     },
     "metadata": {
      "needs_background": "light"
     },
     "output_type": "display_data"
    }
   ],
   "source": [
    "generator = generator_model()\n",
    "noise = tf.random.normal([1, 100])\n",
    "generated_image = generator(noise, training=False)\n",
    "print(generated_image)\n",
    "plt.imshow(generated_image[0, :, :, :])"
   ]
  },
  {
   "cell_type": "markdown",
   "id": "dc4607b1",
   "metadata": {},
   "source": [
    "# Discriminator"
   ]
  },
  {
   "cell_type": "code",
   "execution_count": 4,
   "id": "88451a1d",
   "metadata": {},
   "outputs": [],
   "source": [
    "def discriminator_model():\n",
    "    model = tf.keras.Sequential()\n",
    "    \n",
    "    model.add(layers.Conv2D(filters=64, kernel_size=(5,5), strides=(2,2), padding='same', input_shape=[64, 64, 3]))\n",
    "    model.add(layers.BatchNormalization(epsilon = 1e-5))\n",
    "    model.add(layers.LeakyReLU())\n",
    "\n",
    "    model.add(layers.Conv2D(filters=128, kernel_size=(5,5), strides=(2,2), padding='same'))\n",
    "    model.add(layers.BatchNormalization(epsilon = 1e-5))\n",
    "    model.add(layers.LeakyReLU())\n",
    "    \n",
    "    model.add(layers.Conv2D(filters=256, kernel_size=(5,5), strides=(2,2), padding='same'))\n",
    "    model.add(layers.BatchNormalization(epsilon = 1e-5))\n",
    "    model.add(layers.LeakyReLU())\n",
    "    \n",
    "    model.add(layers.Conv2D(filters=512, kernel_size=(5,5), strides=(1,1), padding='same'))\n",
    "    model.add(layers.BatchNormalization(epsilon = 1e-5))\n",
    "    model.add(layers.LeakyReLU())\n",
    "    \n",
    "    model.add(layers.Conv2D(filters=1024, kernel_size=(5,5), strides=(2,2), padding='same'))\n",
    "    model.add(layers.BatchNormalization(epsilon = 1e-5))\n",
    "    model.add(layers.LeakyReLU())\n",
    "    \n",
    "    model.add(layers.Flatten())\n",
    "    model.add(layers.Dense(1, activation='relu'))\n",
    "    \n",
    "    return model"
   ]
  }
 ],
 "metadata": {
  "kernelspec": {
   "display_name": "Python 3",
   "language": "python",
   "name": "python3"
  },
  "language_info": {
   "codemirror_mode": {
    "name": "ipython",
    "version": 3
   },
   "file_extension": ".py",
   "mimetype": "text/x-python",
   "name": "python",
   "nbconvert_exporter": "python",
   "pygments_lexer": "ipython3",
   "version": "3.8.16"
  }
 },
 "nbformat": 4,
 "nbformat_minor": 5
}
