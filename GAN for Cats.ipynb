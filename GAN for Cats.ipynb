{
 "cells": [
  {
   "cell_type": "code",
   "execution_count": 42,
   "id": "e99c070a",
   "metadata": {},
   "outputs": [],
   "source": [
    "import tensorflow as tf\n",
    "from tensorflow.keras import layers\n",
    "import os\n",
    "import numpy as np\n",
    "import time\n",
    "import matplotlib.pyplot as plt\n",
    "import cv2"
   ]
  },
  {
   "cell_type": "markdown",
   "id": "08402ff1",
   "metadata": {},
   "source": [
    "# Dataset\n",
    "### 15747 images (64,64,3)\n",
    "\n"
   ]
  },
  {
   "cell_type": "code",
   "execution_count": 43,
   "id": "b8b84ba0",
   "metadata": {},
   "outputs": [
    {
     "name": "stdout",
     "output_type": "stream",
     "text": [
      "(15747, 64, 64, 3)\n"
     ]
    }
   ],
   "source": [
    "dataset_dir = \"./cats\"\n",
    "\n",
    "dataset = []\n",
    "for each in os.listdir(dataset_dir):\n",
    "    image = cv2.imread(os.path.join(dataset_dir, each))\n",
    "    if type(image) != type(None):\n",
    "        dataset.append(image)\n",
    "\n",
    "dataset = np.array(dataset)\n",
    "print(dataset.shape)"
   ]
  },
  {
   "cell_type": "markdown",
   "id": "0e253126",
   "metadata": {},
   "source": [
    "# Generator \n"
   ]
  },
  {
   "cell_type": "code",
   "execution_count": 68,
   "id": "c46252c8",
   "metadata": {},
   "outputs": [],
   "source": [
    "def generator_model():\n",
    "    model = tf.keras.Sequential()\n",
    "    \n",
    "    model.add(layers.Dense(4*4*1024, input_shape=(100,)))\n",
    "    model.add(layers.Reshape((4, 4, 1024)))\n",
    "    model.add(layers.LeakyReLU())\n",
    "    \n",
    "    model.add(layers.Conv2DTranspose(filters=512, kernel_size=(5,5), strides=(2,2), padding='same',\n",
    "            kernel_initializer=tf.initializers.truncated_normal(stddev=0.02)))\n",
    "    model.add(layers.BatchNormalization())\n",
    "    model.add(layers.LeakyReLU())\n",
    "    \n",
    "    model.add(layers.Conv2DTranspose(filters=256, kernel_size=(5,5), strides=(2,2), padding='same',\n",
    "             kernel_initializer=tf.initializers.truncated_normal(stddev=0.02)))\n",
    "    model.add(layers.BatchNormalization())\n",
    "    model.add(layers.LeakyReLU())\n",
    "    \n",
    "    model.add(layers.Conv2DTranspose(filters=128, kernel_size=(5,5), strides=(2,2), padding='same',\n",
    "             kernel_initializer=tf.initializers.truncated_normal(stddev=0.02)))\n",
    "    model.add(layers.BatchNormalization())\n",
    "    model.add(layers.LeakyReLU())\n",
    "    \n",
    "\n",
    "    model.add(layers.Conv2DTranspose(filters=64, kernel_size=(5,5), strides=(2,2), padding='same',\n",
    "             kernel_initializer=tf.initializers.truncated_normal(stddev=0.02)))\n",
    "    model.add(layers.BatchNormalization())\n",
    "    model.add(layers.LeakyReLU())\n",
    "    \n",
    "    model.add(layers.Conv2DTranspose(filters=3, kernel_size=(5,5), strides=(1,1), padding='same',\n",
    "             kernel_initializer=tf.initializers.truncated_normal(stddev=0.02),\n",
    "             activation='tanh'))\n",
    "    \n",
    "\n",
    "    return model"
   ]
  },
  {
   "cell_type": "code",
   "execution_count": 75,
   "id": "96bcf035",
   "metadata": {},
   "outputs": [
    {
     "name": "stderr",
     "output_type": "stream",
     "text": [
      "Clipping input data to the valid range for imshow with RGB data ([0..1] for floats or [0..255] for integers).\n"
     ]
    },
    {
     "name": "stdout",
     "output_type": "stream",
     "text": [
      "tf.Tensor(\n",
      "[[[[ 3.1735361e-04  5.0888379e-04  7.6645694e-05]\n",
      "   [ 7.8586518e-04 -2.9769458e-04  4.5719693e-04]\n",
      "   [ 1.5457185e-03  1.0553178e-03  2.3162957e-04]\n",
      "   ...\n",
      "   [ 3.5845430e-03 -4.0467063e-04  8.2978245e-04]\n",
      "   [ 2.1161129e-04 -3.2772429e-04 -3.4363256e-05]\n",
      "   [ 1.9311532e-05  8.0693170e-04  6.2545732e-04]]\n",
      "\n",
      "  [[ 2.2775707e-04 -4.6441657e-04 -3.8027318e-04]\n",
      "   [ 1.2601212e-03  4.1521233e-04 -6.0580095e-04]\n",
      "   [-1.5872241e-03 -1.6787485e-04  1.3623765e-04]\n",
      "   ...\n",
      "   [ 5.7544955e-04  1.4314991e-03  1.8560942e-03]\n",
      "   [-1.3388415e-03  2.0450172e-03  1.6209986e-03]\n",
      "   [-1.1331451e-03 -8.5501396e-04  4.7821767e-04]]\n",
      "\n",
      "  [[ 9.3051553e-04  2.7785922e-04  9.2295965e-04]\n",
      "   [ 9.1236964e-04 -8.3217677e-04  5.0906243e-04]\n",
      "   [ 1.7949253e-03  1.0317636e-03  8.3555444e-04]\n",
      "   ...\n",
      "   [ 1.4779766e-04 -1.9395945e-03  3.3904605e-03]\n",
      "   [ 9.8524673e-04 -1.9400133e-03  2.0987953e-03]\n",
      "   [ 1.6650766e-04 -1.3195679e-03  4.4618003e-04]]\n",
      "\n",
      "  ...\n",
      "\n",
      "  [[-9.3254907e-04 -3.5432610e-04  1.0742912e-03]\n",
      "   [ 1.2519165e-03  1.2270634e-03 -2.0395906e-03]\n",
      "   [-1.9838153e-03  1.9886116e-04  7.0920913e-04]\n",
      "   ...\n",
      "   [ 4.7205905e-03  1.1457176e-03 -8.6762091e-05]\n",
      "   [-2.5163274e-03  3.7799112e-03  2.0235870e-03]\n",
      "   [ 1.2730821e-03 -2.5664701e-03  2.4447727e-03]]\n",
      "\n",
      "  [[ 9.2331675e-04 -8.0692262e-04 -8.5704401e-04]\n",
      "   [-1.1840459e-03 -3.0497655e-03 -8.8997348e-04]\n",
      "   [-2.6921495e-03 -1.5310207e-03 -3.7451700e-04]\n",
      "   ...\n",
      "   [ 3.5522901e-03  2.6811997e-03  3.9248788e-03]\n",
      "   [ 5.7235366e-04 -2.8823907e-03 -4.5481138e-04]\n",
      "   [ 3.3290026e-04  1.5435794e-03  3.9963708e-03]]\n",
      "\n",
      "  [[-1.2053457e-03 -1.0760070e-03  3.5755959e-04]\n",
      "   [ 5.1680306e-04 -2.2351223e-03  6.8724575e-04]\n",
      "   [-1.5059407e-03  5.6276814e-04 -2.2322438e-05]\n",
      "   ...\n",
      "   [ 1.1478537e-04 -3.5060951e-03  2.8887743e-03]\n",
      "   [-1.3140700e-03  2.1005163e-03 -7.0377020e-04]\n",
      "   [ 1.5546314e-03 -1.9188618e-03  1.7876796e-03]]]], shape=(1, 64, 64, 3), dtype=float32)\n"
     ]
    },
    {
     "data": {
      "text/plain": [
       "<matplotlib.image.AxesImage at 0x29b94f6d0>"
      ]
     },
     "execution_count": 75,
     "metadata": {},
     "output_type": "execute_result"
    },
    {
     "data": {
      "image/png": "[encoded data removed]",
      "text/plain": [
       "<Figure size 432x288 with 1 Axes>"
      ]
     },
     "metadata": {
      "needs_background": "light"
     },
     "output_type": "display_data"
    }
   ],
   "source": [
    "generator = generator_model()\n",
    "noise = tf.random.normal([1, 100])\n",
    "generated_image = generator(noise, training=False)\n",
    "print(generated_image)\n",
    "plt.imshow(generated_image[0, :, :, :])"
   ]
  },
  {
   "cell_type": "markdown",
   "id": "1042f05d",
   "metadata": {},
   "source": [
    "# Discriminator"
   ]
  },
  {
   "cell_type": "code",
   "execution_count": null,
   "id": "2220aedb",
   "metadata": {},
   "outputs": [],
   "source": [
    "def discriminator_model()"
   ]
  }
 ],
 "metadata": {
  "kernelspec": {
   "display_name": "Python 3",
   "language": "python",
   "name": "python3"
  },
  "language_info": {
   "codemirror_mode": {
    "name": "ipython",
    "version": 3
   },
   "file_extension": ".py",
   "mimetype": "text/x-python",
   "name": "python",
   "nbconvert_exporter": "python",
   "pygments_lexer": "ipython3",
   "version": "3.8.16"
  }
 },
 "nbformat": 4,
 "nbformat_minor": 5
}
